{
 "cells": [
  {
   "cell_type": "code",
   "execution_count": 3,
   "metadata": {},
   "outputs": [],
   "source": [
    "import pandas as pd\n",
    "import numpy as np\n",
    "from datetime import datetime, timedelta"
   ]
  },
  {
   "cell_type": "code",
   "execution_count": 155,
   "metadata": {},
   "outputs": [],
   "source": [
    "def fixed_table(location):\n",
    "    raw_data = pd.read_excel(location, sheet_name='Current - ii01', skiprows=4)\n",
    "    \n",
    "    # Kelompok Bank\n",
    "    main_table_bank = pd.DataFrame(columns=['Aktiva Rupiah', 'Valuta Asing', 'Jumlah Aset'])\n",
    "\n",
    "    # Kelompok Dati II (Rp dan Valas)\n",
    "    main_table_dati = pd.DataFrame(columns=['Jumlah Aset'])\n",
    "\n",
    "    for i in range(5, len(raw_data.columns)):\n",
    "        ext_table_bank = pd.DataFrame({\n",
    "            'Aktiva Rupiah': raw_data.iloc[3:7, i].values,\n",
    "            'Valuta Asing': raw_data.iloc[9:13, i].values,\n",
    "            'Jumlah Aset': raw_data.iloc[15:19, i].values\n",
    "        })\n",
    "        main_table_bank = pd.concat([main_table_bank, ext_table_bank], ignore_index=True)\n",
    "\n",
    "        ext_table_dati = pd.DataFrame({\n",
    "            'Jumlah Aset': raw_data.iloc[21:60, i].values\n",
    "        })\n",
    "        main_table_dati = pd.concat([main_table_dati, ext_table_dati], ignore_index=True)\n",
    "    \n",
    "    # Tanggal Kelompok Bank\n",
    "    tanggal_bank = []\n",
    "    start_date_bank = datetime(2023, 1, 1)\n",
    "    for bulan_bank in range(13):\n",
    "        tahun_bulan = start_date_bank.strftime('%Y-%m')\n",
    "        tanggal_bank.extend([tahun_bulan] * 4)\n",
    "        start_date_bank = (start_date_bank.replace(day=1) + timedelta(days=32)).replace(day=1)\n",
    "\n",
    "    # Tanggal Kelompok Dati II\n",
    "    tanggal_dati = []\n",
    "    start_date_dati = datetime(2023, 1, 1)\n",
    "    for bulan_dati in range(13):\n",
    "        tahun_bulan = start_date_dati.strftime('%Y-%m')\n",
    "        tanggal_dati.extend([tahun_bulan] * 39)\n",
    "        start_date_dati = (start_date_dati.replace(day=1) + timedelta(days=32)).replace(day=1)\n",
    "    \n",
    "    # Tipe Komponen Kelompok Bank\n",
    "    tipe_komponen_bank = ['Bank Pemerintah', 'Bank Swasta Nasional', 'Bank Asing dan Bank Campuran', 'Bank Perkreditan Rakyat']\n",
    "    tipe_komponen_bank = 13 * tipe_komponen_bank\n",
    "\n",
    "    # Tipe Komponen Kelompok Dati II\n",
    "    tipe_komponen_dati = [vals for vals in raw_data.iloc[21:60, 2].values]\n",
    "    tipe_komponen_dati = 13 * tipe_komponen_dati\n",
    "\n",
    "    main_table_bank['Tanggal'] = tanggal_bank\n",
    "    main_table_bank['Tipe Komponen'] = tipe_komponen_bank\n",
    "\n",
    "    main_table_dati['Tanggal'] = tanggal_dati\n",
    "    main_table_dati['Tipe Komponen'] = tipe_komponen_dati\n",
    "\n",
    "    columns_bank = ['Tanggal', 'Tipe Komponen', 'Aktiva Rupiah', 'Valuta Asing', 'Jumlah Aset']\n",
    "    main_table_bank = main_table_bank[columns_bank]\n",
    "\n",
    "    columns_dati = ['Tanggal', 'Tipe Komponen', 'Jumlah Aset']\n",
    "    main_table_dati = main_table_dati[columns_dati]\n",
    "\n",
    "    # Export DataFrames\n",
    "    with pd.ExcelWriter('Fixed Dataset.xlsx') as writer:\n",
    "        main_table_bank.to_excel(writer, sheet_name='Kelompok Bank', index=False)\n",
    "        main_table_dati.to_excel(writer, sheet_name='Kelompok Dati II', index=False)\n",
    "\n",
    "    return f\"Data has been exported to 'Kelompok Bank.xlsx' and 'Kelompok Dati II.xlsx\""
   ]
  },
  {
   "cell_type": "code",
   "execution_count": 156,
   "metadata": {},
   "outputs": [
    {
     "data": {
      "text/plain": [
       "\"Data has been exported to 'Kelompok Bank.xlsx' and 'Kelompok Dati II.xlsx\""
      ]
     },
     "execution_count": 156,
     "metadata": {},
     "output_type": "execute_result"
    }
   ],
   "source": [
    "fixed_table('./dataset/dataset.xlsx')"
   ]
  }
 ],
 "metadata": {
  "kernelspec": {
   "display_name": "Python 3",
   "language": "python",
   "name": "python3"
  },
  "language_info": {
   "codemirror_mode": {
    "name": "ipython",
    "version": 3
   },
   "file_extension": ".py",
   "mimetype": "text/x-python",
   "name": "python",
   "nbconvert_exporter": "python",
   "pygments_lexer": "ipython3",
   "version": "3.10.0"
  }
 },
 "nbformat": 4,
 "nbformat_minor": 2
}
